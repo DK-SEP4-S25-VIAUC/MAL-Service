{
 "cells": [
  {
   "metadata": {},
   "cell_type": "markdown",
   "source": [
    "# Linear Regression Model Training Service\n",
    "\n",
    "Beskriv formål her\n",
    "\n",
    "Tasks:\n",
    "1. Retrieving test data from REST API (update URL needed)\n",
    "2. Preprocessing data\n",
    "3. Training LinearRegression with scikit-learn\n",
    "4. Evaluating model\n",
    "5. Hyperparameter tuning for model\n",
    "6. Evaluating model on unseen test data\n",
    "7. Exporting model as .onnx (to do)"
   ],
   "id": "e8da02f77283962f"
  },
  {
   "metadata": {},
   "cell_type": "markdown",
   "source": "### 1. Retrieving data from REST API",
   "id": "751664281ad7d744"
  },
  {
   "metadata": {
    "collapsed": true
   },
   "cell_type": "code",
   "outputs": [],
   "execution_count": null,
   "source": [
    "import requests\n",
    "import pandas as pd\n",
    "import numpy as np\n",
    "from sklearn.linear_model import Ridge\n",
    "from sklearn.model_selection import train_test_split, GridSearchCV\n",
    "from sklearn.preprocessing import StandardScaler\n",
    "from sklearn.metrics import mean_squared_error, r2_score\n",
    "from skl2onnx import convert_sklearn\n",
    "from skl2onnx.common.data_types import FloatTensorType\n",
    "\n",
    "# === 1. Fetch training data ===\n",
    "# TODO: Replace with actual API endpoint\n",
    "response = requests.get('http://api-url/training-data')\n",
    "data_json = response.json()\n",
    "data = pd.DataFrame(data_json)\n"
   ],
   "id": "initial_id"
  },
  {
   "metadata": {},
   "cell_type": "markdown",
   "source": "### 2. Preprocessing data",
   "id": "300ce3e5169aa3b1"
  },
  {
   "metadata": {},
   "cell_type": "code",
   "outputs": [],
   "execution_count": null,
   "source": [
    "# === 2. Split into training, validation, and test sets ===\n",
    "X = data.drop('y', axis=1)\n",
    "y = data['y']\n",
    "\n",
    "# First, split 80% temporary set and 20% test set\n",
    "X_temp, X_test, y_temp, y_test = train_test_split(X, y, test_size=0.2, random_state=42)\n",
    "\n",
    "# Then split temporary set into 60% training and 20% validation\n",
    "X_train, X_val, y_train, y_val = train_test_split(X_temp, y_temp, test_size=0.25, random_state=42)\n",
    "\n",
    "print(f'Training set size: {X_train.shape[0]} samples')\n",
    "print(f'Validation set size: {X_val.shape[0]} samples')\n",
    "print(f'Test set size: {X_test.shape[0]} samples')\n",
    "\n",
    "# Scale features using StandardScaler\n",
    "scaler = StandardScaler()\n",
    "X_train_scaled = scaler.fit_transform(X_train)\n",
    "X_val_scaled = scaler.transform(X_val)\n",
    "X_test_scaled = scaler.transform(X_test)\n",
    "\n",
    "# Hyperparameter tuning with GridSearchCV using Ridge Regression\n",
    "param_grid = {\n",
    "    'alpha': [0.01, 0.1, 1, 10, 100],\n",
    "}\n",
    "\n",
    "grid_search = GridSearchCV(\n",
    "    Ridge(),\n",
    "    param_grid,\n",
    "    scoring='neg_mean_squared_error',\n",
    "    cv=5\n",
    ")\n",
    "\n",
    "grid_search.fit(X_train_scaled, y_train)\n",
    "print(\"Best Ridge parameters:\", grid_search.best_params_)"
   ],
   "id": "5d13c24ade61539c"
  },
  {
   "metadata": {},
   "cell_type": "markdown",
   "source": "### 4. Evaluate model on validation set",
   "id": "e4bd7beb50e67017"
  },
  {
   "metadata": {},
   "cell_type": "code",
   "outputs": [],
   "execution_count": null,
   "source": [
    "# Evaluating model on validation set\n",
    "best_model = grid_search.best_estimator_\n",
    "\n",
    "y_val_pred = best_model.predict(X_val_scaled)\n",
    "val_rmse = mean_squared_error(y_val, y_val_pred, squared=False)\n",
    "val_r2 = r2_score(y_val, y_val_pred)\n",
    "\n",
    "print(\"Validation performance:\")\n",
    "print(f\"RMSE: {val_rmse:.2f}\")\n",
    "print(f\"R²: {val_r2:.2f}\")"
   ],
   "id": "d19ec36eb4126873"
  },
  {
   "metadata": {},
   "cell_type": "markdown",
   "source": "### 6. Evaluate model on test set",
   "id": "c3d23fdcc6ad4d80"
  },
  {
   "metadata": {},
   "cell_type": "code",
   "outputs": [],
   "execution_count": null,
   "source": [
    "# Evaluating model based on unseen test data\n",
    "\n",
    "y_test_pred = best_model.predict(X_test_scaled)\n",
    "test_rmse = mean_squared_error(y_test, y_test_pred, squared=False)\n",
    "test_r2 = r2_score(y_test, y_test_pred)\n",
    "\n",
    "print(\"Test performance:\")\n",
    "print(f\"RMSE: {test_rmse:.2f}\")\n",
    "print(f\"R²: {test_r2:.2f}\")"
   ],
   "id": "cc53079b0882d446"
  },
  {
   "metadata": {},
   "cell_type": "markdown",
   "source": "### 7. Export model as ONNX",
   "id": "60f895873fd59ba0"
  },
  {
   "metadata": {},
   "cell_type": "code",
   "outputs": [],
   "execution_count": null,
   "source": [
    "initial_type = [('input', FloatTensorType([None, X_train_scaled.shape[1]]))]\n",
    "onnx_model = convert_sklearn(best_model, initial_types=initial_type)\n",
    "\n",
    "with open(\"../app/model.onnx\", \"wb\") as f:\n",
    "    f.write(onnx_model.SerializeToString())\n",
    "\n",
    "print(\"Model exported as ONNX to ../app/model.onnx\")"
   ],
   "id": "23cb6915d45fc8c6"
  }
 ],
 "metadata": {
  "kernelspec": {
   "display_name": "Python 3",
   "language": "python",
   "name": "python3"
  },
  "language_info": {
   "codemirror_mode": {
    "name": "ipython",
    "version": 2
   },
   "file_extension": ".py",
   "mimetype": "text/x-python",
   "name": "python",
   "nbconvert_exporter": "python",
   "pygments_lexer": "ipython2",
   "version": "2.7.6"
  }
 },
 "nbformat": 4,
 "nbformat_minor": 5
}
